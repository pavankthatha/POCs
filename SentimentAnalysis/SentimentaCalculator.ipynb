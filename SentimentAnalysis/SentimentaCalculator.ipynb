{
 "cells": [
  {
   "cell_type": "code",
   "execution_count": null,
   "metadata": {
    "collapsed": false
   },
   "outputs": [],
   "source": []
  },
  {
   "cell_type": "code",
   "execution_count": 8,
   "metadata": {
    "collapsed": false
   },
   "outputs": [
    {
     "name": "stdout",
     "output_type": "stream",
     "text": [
      "COMPLETED\n"
     ]
    }
   ],
   "source": [
    "import csv\n",
    "import pandas as pd\n",
    "from textblob import TextBlob\n",
    "#import sys\n",
    "\n",
    "# to force utf-8 encoding on entire program\n",
    "#reload(sys)\n",
    "#sys.setdefaultencoding('utf8')\n",
    "\n",
    "alltweets = csv.reader(open(\"TiVo_tweets.csv\", 'r'))\n",
    "sntTweets = csv.writer(open(\"TiVo_tweets_sentiment.csv\", \"w\", newline=''))\n",
    "sntTweets.writerow([\"id\",\"Date\",\"text\",\"Polarity\",\"SentimentScore\",\"Sentiment\"])\n",
    "\n",
    "for row in alltweets:\n",
    "    blob = TextBlob(row[2])\n",
    "    #print (blob.sentiment.polarity)\n",
    "    \n",
    "    if ((blob.sentiment.polarity >= 0.5) and ((blob.sentiment.polarity <= 1))):\n",
    "        sntTweets.writerow([row[0], row[1], row[2], blob.sentiment.polarity, 5, \"Very Positive\"])\n",
    "\n",
    "    if ((blob.sentiment.polarity >= 0.25) and ((blob.sentiment.polarity < 0.5))):\n",
    "        sntTweets.writerow([row[0], row[1], row[2], blob.sentiment.polarity, 4, \"Positive\"])\n",
    "\n",
    "    elif ((blob.sentiment.polarity >= 0) and ((blob.sentiment.polarity < 0.25))):\n",
    "        sntTweets.writerow([row[0], row[1], row[2], blob.sentiment.polarity, 3, \"Neutral\"])\n",
    "    \n",
    "    #elif blob.sentiment.polarity < 0:\n",
    "    elif ((blob.sentiment.polarity < 0) and ((blob.sentiment.polarity >= -0.5))):\n",
    "        sntTweets.writerow([row[0], row[1], row[2], blob.sentiment.polarity, 2, \"Negative\"])\n",
    "\n",
    "    #elif blob.sentiment.polarity == 0.0:\n",
    "    elif ((blob.sentiment.polarity < -0.5) and ((blob.sentiment.polarity >= -1))):\n",
    "        sntTweets.writerow([row[0], row[1], row[2], blob.sentiment.polarity, 1, \"Very Negative\"])\n",
    "\n",
    "print(\"COMPLETED\")\n"
   ]
  }
 ],
 "metadata": {
  "kernelspec": {
   "display_name": "Python 3",
   "language": "python",
   "name": "python3"
  },
  "language_info": {
   "codemirror_mode": {
    "name": "ipython",
    "version": 3
   },
   "file_extension": ".py",
   "mimetype": "text/x-python",
   "name": "python",
   "nbconvert_exporter": "python",
   "pygments_lexer": "ipython3",
   "version": "3.6.0"
  }
 },
 "nbformat": 4,
 "nbformat_minor": 2
}
